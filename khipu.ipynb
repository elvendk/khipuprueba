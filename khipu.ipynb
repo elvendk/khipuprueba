{
 "cells": [
  {
   "cell_type": "code",
   "execution_count": 1,
   "id": "1779e608",
   "metadata": {},
   "outputs": [
    {
     "name": "stdout",
     "output_type": "stream",
     "text": [
      "Status code: 200\n",
      "Respuesta:\n",
      "{\"app_url\":\"khipu:///pos/b3rezrpyg2xe\",\"payment_id\":\"b3rezrpyg2xe\",\"payment_url\":\"https://khipu.com/payment/info/b3rezrpyg2xe\",\"ready_for_terminal\":false,\"simplified_transfer_url\":\"https://app.khipu.com/payment/simplified/b3rezrpyg2xe\",\"transfer_url\":\"https://khipu.com/payment/manual/b3rezrpyg2xe\"}\n",
      "✅ Enlace de pago:\n",
      "https://khipu.com/payment/info/b3rezrpyg2xe\n"
     ]
    }
   ],
   "source": [
    "import requests\n",
    "\n",
    "url = \"https://payment-api.khipu.com/v3/payments\"\n",
    "\n",
    "payload = {\n",
    "    \"subject\": \"Compra de prueba\",\n",
    "    \"body\": \"Compra de Prueba integración Khipu\",\n",
    "    \"amount\": 1000,\n",
    "    \"currency\": \"CLP\",\n",
    "    \"notify_url\": \"https://handsome-yottabyte-19.webhook.cool\"  # Opcional pero útil para pruebas\n",
    "}\n",
    "\n",
    "headers = {\n",
    "    \"Content-Type\": \"application/json\",\n",
    "    \"x-api-key\": \"f65f7c76-ad5d-4e60-bb8a-ff911d3730a8\"\n",
    "}\n",
    "\n",
    "response = requests.post(url, json=payload, headers=headers)\n",
    "\n",
    "print(f\"Status code: {response.status_code}\")\n",
    "print(\"Respuesta:\")\n",
    "print(response.text)  # Imprime la respuesta en bruto por si hay errores\n",
    "\n",
    "# Si la respuesta es JSON válida:\n",
    "if response.status_code == 200:\n",
    "    data = response.json()\n",
    "    print(\"✅ Enlace de pago:\")\n",
    "    print(data.get(\"payment_url\"))\n",
    "else:\n",
    "    print(\"❌ Error al crear el pago.\")\n",
    "\n"
   ]
  },
  {
   "cell_type": "code",
   "execution_count": 3,
   "id": "810e7eb1",
   "metadata": {},
   "outputs": [
    {
     "name": "stdout",
     "output_type": "stream",
     "text": [
      "✅ Estado de Pago aprobado:\n",
      "{\n",
      "    \"amount\": \"1000.0000\",\n",
      "    \"app_url\": \"khipu:///pos/b3rezrpyg2xe\",\n",
      "    \"attachment_urls\": [],\n",
      "    \"bank\": \"DemoBank\",\n",
      "    \"bank_account_number\": \"FAKE-ac7b53af-4c96-440e-9fd6-22982076df55\",\n",
      "    \"bank_id\": \"Bawdf\",\n",
      "    \"body\": \"Compra de Prueba integración Khipu\",\n",
      "    \"cancel_url\": \"\",\n",
      "    \"conciliation_date\": \"2025-05-13T03:39:57.674Z\",\n",
      "    \"currency\": \"CLP\",\n",
      "    \"custom\": \"\",\n",
      "    \"discount\": \"0.0000\",\n",
      "    \"expires_date\": \"2025-05-14T03:37:24.630Z\",\n",
      "    \"funds_source\": \"not-available\",\n",
      "    \"notification_token\": \"8ca19b4ae77804723137588a99a6d762536fbaf0d9fdc5f89faa0c4ce901221d\",\n",
      "    \"notify_api_version\": \"3.0\",\n",
      "    \"notify_url\": \"https://handsome-yottabyte-19.webhook.cool\",\n",
      "    \"out_of_date_conciliation\": false,\n",
      "    \"payer_email\": \"gfruiz@miuandes.cl\",\n",
      "    \"payer_name\": \"Cobrador de desarrollo #497.691\",\n",
      "    \"payment_id\": \"b3rezrpyg2xe\",\n",
      "    \"payment_method\": \"regular_transfer\",\n",
      "    \"payment_url\": \"https://khipu.com/payment/info/b3rezrpyg2xe\",\n",
      "    \"personal_identifier\": \"17.601.805-4\",\n",
      "    \"picture_url\": \"\",\n",
      "    \"ready_for_terminal\": true,\n",
      "    \"receipt_url\": \"https://s3.amazonaws.com/notifications.khipu.com/CPKH-1205252337-b3rezrpyg2xe.pdf\",\n",
      "    \"receiver_id\": 497691,\n",
      "    \"responsible_user_email\": \"gfruiz@miuandes.cl\",\n",
      "    \"return_url\": \"\",\n",
      "    \"send_email\": false,\n",
      "    \"send_reminders\": false,\n",
      "    \"simplified_transfer_url\": \"https://app.khipu.com/payment/simplified/b3rezrpyg2xe\",\n",
      "    \"status\": \"done\",\n",
      "    \"status_detail\": \"normal\",\n",
      "    \"subject\": \"Compra de prueba\",\n",
      "    \"third_party_authorization_details\": \"\",\n",
      "    \"transaction_id\": \"\",\n",
      "    \"transfer_url\": \"https://khipu.com/payment/manual/b3rezrpyg2xe\"\n",
      "}\n"
     ]
    }
   ],
   "source": [
    "import json\n",
    "import time\n",
    "import requests\n",
    "\n",
    "payment_id = data.get(\"payment_id\")  # Asegúrate de tener `data` definido antes\n",
    "\n",
    "url = \"https://payment-api.khipu.com/v3/payments/\" + payment_id\n",
    "headers = {\"x-api-key\": \"f65f7c76-ad5d-4e60-bb8a-ff911d3730a8\"}\n",
    "\n",
    "while True:\n",
    "    response = requests.get(url, headers=headers)\n",
    "\n",
    "    try:\n",
    "        data = response.json()\n",
    "    except json.JSONDecodeError:\n",
    "        print(\"❌ Error al decodificar JSON:\")\n",
    "        print(response.text)\n",
    "        break\n",
    "\n",
    "    status = data.get(\"status\")\n",
    "    \n",
    "    if status == \"done\":\n",
    "        print(\"✅ Estado de Pago aprobado:\")\n",
    "        print(json.dumps(data, indent=4, ensure_ascii=False))\n",
    "        break\n",
    "    elif status == \"verifying\":\n",
    "        print(\"⏳ El pago aún se encuentra pendiente. Reintentando en 30 segundos...\")\n",
    "        time.sleep(60)  # Espera 5 segundos antes de volver a consultar\n",
    "    else:\n",
    "        print(\"❌ El pago fue rechazado o tuvo un error.\")\n",
    "        print(json.dumps(data, indent=4, ensure_ascii=False))\n",
    "        break"
   ]
  }
 ],
 "metadata": {
  "kernelspec": {
   "display_name": "Python 3",
   "language": "python",
   "name": "python3"
  },
  "language_info": {
   "codemirror_mode": {
    "name": "ipython",
    "version": 3
   },
   "file_extension": ".py",
   "mimetype": "text/x-python",
   "name": "python",
   "nbconvert_exporter": "python",
   "pygments_lexer": "ipython3",
   "version": "3.12.4"
  }
 },
 "nbformat": 4,
 "nbformat_minor": 5
}
